{
 "cells": [
  {
   "attachments": {},
   "cell_type": "markdown",
   "metadata": {},
   "source": [
    "# Example-generator.ipynb\n",
    "\n",
    "Test area to construct and example tilt out of the tilt-schema.\n",
    "\n",
    "Will be turned into .py file that can be executed as a GitHub action. "
   ]
  },
  {
   "cell_type": "code",
   "execution_count": null,
   "metadata": {},
   "outputs": [],
   "source": [
    "import os \n",
    "import json\n",
    "import glob\n",
    "import jsonschema\n",
    "from jsonschema import Draft7Validator"
   ]
  },
  {
   "cell_type": "code",
   "execution_count": 10,
   "metadata": {},
   "outputs": [
    {
     "name": "stdout",
     "output_type": "stream",
     "text": [
      "Validation failed with 2 error(s):\n",
      "Error 1:\n",
      "  Message: {} is not valid under any of the given schemas\n",
      "  Path: dataDisclosed.0\n",
      "  Schema path: properties/dataDisclosed/items/anyOf\n",
      "Error 2:\n",
      "  Message: {} is not valid under any of the given schemas\n",
      "  Path: sources.0\n",
      "  Schema path: properties/sources/items/anyOf\n"
     ]
    }
   ],
   "source": [
    "import json\n",
    "import jsonschema\n",
    "\n",
    "# Load JSON schema\n",
    "with open('combined.json', 'r') as schema_file:\n",
    "    schema_data = json.load(schema_file)\n",
    "\n",
    "# Build empty JSON based on schema\n",
    "empty_json = {}\n",
    "for key, value in schema_data.get('properties', {}).items():\n",
    "    if value.get('type') == 'object':\n",
    "        empty_json[key] = {}\n",
    "    elif value.get('type') == 'array':\n",
    "        empty_json[key] = []\n",
    "    else:\n",
    "        empty_json[key] = None\n",
    "\n",
    "# Fill empty JSON with examples provided in schema\n",
    "def update_json_with_example(json_obj, schema_obj):\n",
    "    for key, value in schema_obj.get('properties', {}).items():\n",
    "\n",
    "\n",
    "        if value.get('type') == 'object':\n",
    "            json_obj[key] = {}\n",
    "            update_json_with_example(json_obj[key], value)\n",
    "        elif value.get('type') == 'array':\n",
    "            json_obj[key] = []\n",
    "            if value.get('items', {}).get('type') == 'object':\n",
    "                json_obj[key].append({})\n",
    "                update_json_with_example(json_obj[key][0], value['items'])\n",
    "        else:\n",
    "            example = None\n",
    "            if 'anyOf' in value:\n",
    "                for subschema in value['anyOf']:\n",
    "                    try:\n",
    "                        jsonschema.validate({key: subschema['examples'][0]}, {key: subschema})\n",
    "                        example = subschema['examples'][0]\n",
    "                        break\n",
    "                    except jsonschema.ValidationError:\n",
    "                        pass\n",
    "            else:\n",
    "                # Check if field is optional\n",
    "                if value.get('default') is not None or value.get('nullable') or value.get('optional'):\n",
    "                    # If optional, use default value or set to null\n",
    "                    json_obj[key] = value.get('default', None)\n",
    "                else:\n",
    "                    # Otherwise, use example value\n",
    "                    example = value.get('examples', [None])[0]\n",
    "            if example is not None:\n",
    "                json_obj[key] = example\n",
    "\n",
    "\n",
    "update_json_with_example(empty_json, schema_data)\n",
    "\n",
    "# Print resulting JSON\n",
    "#print(json.dumps(empty_json, indent=2))\n",
    "\n",
    "validator = jsonschema.Draft7Validator(schema_data)\n",
    "errors = list(validator.iter_errors(empty_json))\n",
    "\n",
    "# Print detailed error messages for any validation errors\n",
    "if errors:\n",
    "    print(f\"Validation failed with {len(errors)} error(s):\")\n",
    "    for i, error in enumerate(errors, start=1):\n",
    "        print(f\"Error {i}:\")\n",
    "        print(f\"  Message: {error.message}\")\n",
    "        print(f\"  Path: {'.'.join(str(p) for p in error.absolute_path)}\")\n",
    "        print(f\"  Schema path: {'/'.join(str(p) for p in error.schema_path)}\")\n",
    "else:\n",
    "    print(\"Validation successful!\")"
   ]
  },
  {
   "cell_type": "code",
   "execution_count": 11,
   "metadata": {},
   "outputs": [
    {
     "data": {
      "text/plain": [
       "[{}]"
      ]
     },
     "execution_count": 11,
     "metadata": {},
     "output_type": "execute_result"
    }
   ],
   "source": [
    "empty_json['dataDisclosed']"
   ]
  },
  {
   "cell_type": "code",
   "execution_count": null,
   "metadata": {},
   "outputs": [],
   "source": []
  }
 ],
 "metadata": {
  "kernelspec": {
   "display_name": "base",
   "language": "python",
   "name": "python3"
  },
  "language_info": {
   "codemirror_mode": {
    "name": "ipython",
    "version": 3
   },
   "file_extension": ".py",
   "mimetype": "text/x-python",
   "name": "python",
   "nbconvert_exporter": "python",
   "pygments_lexer": "ipython3",
   "version": "3.9.12"
  },
  "orig_nbformat": 4
 },
 "nbformat": 4,
 "nbformat_minor": 2
}
